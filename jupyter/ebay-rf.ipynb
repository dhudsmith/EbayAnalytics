{
 "cells": [
  {
   "cell_type": "markdown",
   "metadata": {},
   "source": [
    "# Notebook description"
   ]
  },
  {
   "cell_type": "markdown",
   "metadata": {},
   "source": [
    "The purpose of this notebook is to demonstrate the basic application of a random forest (RF) classifier to the prediction of the sales outcome of ebay listings of Apple Macbook Pro laptop computers. This analysis is based on approximately 45,000 historical listings extracted using the ebay Finding API. "
   ]
  },
  {
   "cell_type": "markdown",
   "metadata": {},
   "source": [
    "# Preliminary"
   ]
  },
  {
   "cell_type": "code",
   "execution_count": 39,
   "metadata": {
    "ExecuteTime": {
     "end_time": "2016-05-05T09:13:30.694705",
     "start_time": "2016-05-05T09:13:30.538962"
    },
    "collapsed": false
   },
   "outputs": [],
   "source": [
    "# Imports\n",
    "%matplotlib inline\n",
    "import matplotlib.pylab as pylab\n",
    "pylab.rcParams['figure.figsize'] = (8, 8)\n",
    "import matplotlib.pyplot as plt\n",
    "import pandas as pd\n",
    "import numpy as np\n",
    "from sklearn.feature_selection import VarianceThreshold\n",
    "from sklearn.cross_validation import train_test_split\n",
    "from sklearn.ensemble import RandomForestClassifier\n",
    "from sklearn.metrics import confusion_matrix, roc_auc_score, roc_curve, auc\n",
    "import pprint as pp\n",
    "\n",
    "# Read in the pandas.DataFrame from csv\n",
    "data = pd.read_csv('../Data/ebay_data_rf.csv', index_col=False)"
   ]
  },
  {
   "cell_type": "markdown",
   "metadata": {},
   "source": [
    "# Random forest model"
   ]
  },
  {
   "cell_type": "markdown",
   "metadata": {},
   "source": [
    "Random forest (RF) makes sense in this application for a number of reasons:\n",
    "1. The ebay features are almost all categorical. RF handles categorical variables without too much extra effort (as compared with SVM).\n",
    "2. There are significant feature interactions. For example, the impact of item cost on sales outcome depends strongly on whether the listing is auction or fixed-price. RF models can 'learn' feature interactions quite robustly.\n",
    "3. Though RFs must be refit to incorporate new observations, they fit relatively quickly (under average circumstances). They also predict quite quickly. \n",
    "\n",
    "Nevertheless, RF models do pose some problems in this application:\n",
    "1. It's possible (though I've tried to minimize this) that several features are correlated. Though I don't at present understand why, I've read that RF has difficulty with correlated features. Perhaps they increase the variance in the model fit?\n",
    "2. Ultimately, we would like to make recommendations to ebay sellers based on the model outputs. Though RF can rank feature importances (as we will see below), making interpretations based on these rankings is notoriously dicey. This is a problem with many models, though.\n"
   ]
  },
  {
   "cell_type": "markdown",
   "metadata": {},
   "source": [
    "## Preprocessing"
   ]
  },
  {
   "cell_type": "code",
   "execution_count": 40,
   "metadata": {
    "ExecuteTime": {
     "end_time": "2016-05-05T09:13:30.776691",
     "start_time": "2016-05-05T09:13:30.696230"
    },
    "collapsed": false
   },
   "outputs": [],
   "source": [
    "# Separate target variable from inputs\n",
    "y = data.sellingState\n",
    "X = data.drop(['sellingState'], axis=1)\n",
    "\n",
    "# Split test and train\n",
    "test_frac = 0.5\n",
    "X_train, X_test, y_train, y_test = train_test_split(\n",
    "    X, y, test_size=test_frac, random_state=7\n",
    ")"
   ]
  },
  {
   "cell_type": "markdown",
   "metadata": {},
   "source": [
    "## Train the random forest classifier"
   ]
  },
  {
   "cell_type": "code",
   "execution_count": 41,
   "metadata": {
    "ExecuteTime": {
     "end_time": "2016-05-05T09:13:37.500812",
     "start_time": "2016-05-05T09:13:30.778518"
    },
    "collapsed": false
   },
   "outputs": [
    {
     "data": {
      "text/plain": [
       "RandomForestClassifier(bootstrap=True, class_weight={0: 2, 1: 1},\n",
       "            criterion='gini', max_depth=None, max_features=10,\n",
       "            max_leaf_nodes=None, min_samples_leaf=1, min_samples_split=2,\n",
       "            min_weight_fraction_leaf=0.0, n_estimators=200, n_jobs=4,\n",
       "            oob_score=False, random_state=None, verbose=0,\n",
       "            warm_start=False)"
      ]
     },
     "execution_count": 41,
     "metadata": {},
     "output_type": "execute_result"
    }
   ],
   "source": [
    "n_estimators = 200\n",
    "max_features = 10\n",
    "weights = {0: 2, 1: 1}\n",
    "clf = RandomForestClassifier(n_estimators = n_estimators,\n",
    "                             max_features=max_features,\n",
    "                             n_jobs = 4,\n",
    "                             class_weight=weights,\n",
    "                             warm_start=False)\n",
    "\n",
    "clf.fit(X_train,y_train)"
   ]
  },
  {
   "cell_type": "markdown",
   "metadata": {},
   "source": [
    "## Test the model on the test set"
   ]
  },
  {
   "cell_type": "code",
   "execution_count": 42,
   "metadata": {
    "ExecuteTime": {
     "end_time": "2016-05-05T09:13:38.610399",
     "start_time": "2016-05-05T09:13:37.503087"
    },
    "collapsed": false
   },
   "outputs": [
    {
     "name": "stdout",
     "output_type": "stream",
     "text": [
      "Confusion matrix:\n",
      " [[17279   536]\n",
      " [ 2288  2317]]\n",
      "Normalized confusion matrix:\n",
      " [[ 0.77069581  0.02390723]\n",
      " [ 0.10205174  0.10334523]]\n",
      "Accuracy:\n",
      " 0.87404103479\n",
      "ROC AUC:\n",
      " 0.856340278584\n"
     ]
    }
   ],
   "source": [
    "# Test on the training set:\n",
    "y_test_pred = clf.predict(X_test)\n",
    "\n",
    "# Print the confusion matrix\n",
    "mat = confusion_matrix(y_test, y_test_pred)\n",
    "num = np.sum(mat)\n",
    "print(\"Confusion matrix:\\n\", mat)\n",
    "print(\"Normalized confusion matrix:\\n\", mat/num)\n",
    "print(\"Accuracy:\\n\", (mat[0,0]+mat[1,1])/num)\n",
    "\n",
    "# Calculate the roc_auc score\n",
    "print('ROC AUC:\\n', roc_auc_score(y_test, clf.predict_proba(X_test)[:,1], average = 'weighted'))"
   ]
  },
  {
   "cell_type": "markdown",
   "metadata": {},
   "source": [
    "The accuracy on the test set agrees well with the OOB error rate of about 0.2 for our model parameters."
   ]
  },
  {
   "cell_type": "markdown",
   "metadata": {},
   "source": [
    "## ROC Curve"
   ]
  },
  {
   "cell_type": "code",
   "execution_count": 43,
   "metadata": {
    "ExecuteTime": {
     "end_time": "2016-05-05T09:13:39.152734",
     "start_time": "2016-05-05T09:13:38.612333"
    },
    "collapsed": false
   },
   "outputs": [],
   "source": [
    "fpr, tpr, _ = roc_curve(y_test,  clf.predict_proba(X_test)[:,1])\n",
    "roc_auc = auc(fpr, tpr)"
   ]
  },
  {
   "cell_type": "code",
   "execution_count": 46,
   "metadata": {
    "ExecuteTime": {
     "end_time": "2016-05-05T09:23:33.986465",
     "start_time": "2016-05-05T09:23:33.725669"
    },
    "collapsed": false
   },
   "outputs": [
    {
     "data": {
      "image/png": "[encoded data removed]",
      "text/plain": [
       "<matplotlib.figure.Figure at 0x112a822e8>"
      ]
     },
     "metadata": {},
     "output_type": "display_data"
    }
   ],
   "source": [
    "# Plot of a ROC curve for a specific class\n",
    "plt.figure()\n",
    "plt.plot(fpr, tpr, label='ROC curve (area = %0.2f)' % roc_auc)\n",
    "plt.plot([0, 1], [0, 1], 'k--')\n",
    "plt.xlim([0.0, 1.0])\n",
    "plt.ylim([0.0, 1.0])\n",
    "plt.xlabel('False Positive Rate')\n",
    "plt.ylabel('True Positive Rate')\n",
    "plt.title('Receiver operating characteristic')\n",
    "plt.legend(loc=\"lower right\")\n",
    "plt.show()"
   ]
  },
  {
   "cell_type": "markdown",
   "metadata": {},
   "source": [
    "## Feature importances\n",
    "The random forest model also allows us to see which features were important for modeling the data."
   ]
  },
  {
   "cell_type": "code",
   "execution_count": 45,
   "metadata": {
    "ExecuteTime": {
     "end_time": "2016-05-05T09:13:39.545087",
     "start_time": "2016-05-05T09:13:39.419519"
    },
    "collapsed": false
   },
   "outputs": [
    {
     "name": "stdout",
     "output_type": "stream",
     "text": [
      "                   Features    Scores\n",
      "14            feedbackScore  0.228142\n",
      "17                    value  0.171039\n",
      "18                  endHour  0.111669\n",
      "6         buyItNowAvailable  0.078706\n",
      "1           productId_value  0.072509\n",
      "19               endWeekday  0.072454\n",
      "15  positiveFeedbackPercent  0.048751\n",
      "10             shippingType  0.035477\n",
      "13       feedbackRatingStar  0.030446\n",
      "3               conditionId  0.022414\n",
      "2      conditionDisplayName  0.020226\n",
      "9         expeditedShipping  0.019433\n",
      "12          returnsAccepted  0.018643\n",
      "16           topRatedSeller  0.016437\n",
      "7          bestOfferEnabled  0.015384\n",
      "5               listingType  0.011821\n",
      "0            productId_type  0.011026\n",
      "11           isShippingFree  0.009611\n",
      "4                   country  0.003408\n",
      "8             paymentMethod  0.002404\n"
     ]
    }
   ],
   "source": [
    "cols = X.columns\n",
    "feature_scores = clf.feature_importances_\n",
    "\n",
    "score_card = pd.DataFrame.from_items([('Features', cols),('Scores', feature_scores)])\n",
    "score_card.sort_values(by = 'Scores', inplace=True, ascending=False)\n",
    "\n",
    "print(score_card)"
   ]
  },
  {
   "cell_type": "markdown",
   "metadata": {},
   "source": [
    "We see that the most important features have to do with the time of day that the listing started and ended and the day of month that the listing started and ended. These variables are may be highly correlated, so we should be careful not to read too much into the model at this point. We can say, however, that listing time features are predictive for the listing outcome."
   ]
  }
 ],
 "metadata": {
  "kernelspec": {
   "display_name": "Python 3",
   "language": "python",
   "name": "python3"
  },
  "language_info": {
   "codemirror_mode": {
    "name": "ipython",
    "version": 3
   },
   "file_extension": ".py",
   "mimetype": "text/x-python",
   "name": "python",
   "nbconvert_exporter": "python",
   "pygments_lexer": "ipython3",
   "version": "3.5.1"
  },
  "toc": {
   "toc_cell": false,
   "toc_number_sections": true,
   "toc_threshold": 6,
   "toc_window_display": false
  }
 },
 "nbformat": 4,
 "nbformat_minor": 0
}
