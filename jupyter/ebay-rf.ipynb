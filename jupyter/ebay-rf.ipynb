{
 "cells": [
  {
   "cell_type": "markdown",
   "metadata": {},
   "source": [
    "# Imports"
   ]
  },
  {
   "cell_type": "code",
   "execution_count": 95,
   "metadata": {
    "ExecuteTime": {
     "end_time": "2016-04-27T11:09:47.189678",
     "start_time": "2016-04-27T11:09:47.137876"
    },
    "collapsed": false
   },
   "outputs": [],
   "source": [
    "import pandas as pd\n",
    "import numpy as np\n",
    "from sklearn.feature_selection import VarianceThreshold\n",
    "from sklearn.cross_validation import train_test_split\n",
    "from sklearn.ensemble import RandomForestClassifier\n",
    "from sklearn.metrics import confusion_matrix, roc_auc_score, classification_report\n",
    "import pprint as pp\n",
    "\n",
    "# Read in the pandas.DataFrame from csv\n",
    "data = pd.read_csv('../DataAnalysis/RandomForest/ebay_data_rf.csv', index_col=False)"
   ]
  },
  {
   "cell_type": "markdown",
   "metadata": {},
   "source": [
    "# Random forest model"
   ]
  },
  {
   "cell_type": "markdown",
   "metadata": {},
   "source": [
    "Our eBay data contains primarily categorical variables. Thus, random forest is a natural option for modeling the dataset, because the random forest algorithm is based on decision trees which naturally handle categorical data."
   ]
  },
  {
   "cell_type": "markdown",
   "metadata": {},
   "source": [
    "## Preprocessing"
   ]
  },
  {
   "cell_type": "code",
   "execution_count": 96,
   "metadata": {
    "ExecuteTime": {
     "end_time": "2016-04-27T11:09:47.225793",
     "start_time": "2016-04-27T11:09:47.193304"
    },
    "collapsed": false
   },
   "outputs": [],
   "source": [
    "# Drop unwanted column(s)\n",
    "data.drop('value', axis=1, inplace=True)\n",
    "\n",
    "# Remove columns with zero variance\n",
    "selector = VarianceThreshold()\n",
    "selector.fit_transform(data)\n",
    "\n",
    "# Separate target variable from inputs\n",
    "y = data.sellingState\n",
    "X = data.drop('sellingState', axis=1)\n",
    "\n",
    "# Split test and train\n",
    "test_frac = 0.25\n",
    "X_train, X_test, y_train, y_test = train_test_split(\n",
    "    X, y, test_size=test_frac, random_state=7\n",
    ")"
   ]
  },
  {
   "cell_type": "markdown",
   "metadata": {},
   "source": [
    "## Train the random forest classifier"
   ]
  },
  {
   "cell_type": "code",
   "execution_count": 97,
   "metadata": {
    "ExecuteTime": {
     "end_time": "2016-04-27T11:09:48.157366",
     "start_time": "2016-04-27T11:09:47.227349"
    },
    "collapsed": false
   },
   "outputs": [
    {
     "data": {
      "text/plain": [
       "RandomForestClassifier(bootstrap=True, class_weight={0: 2, 1: 1},\n",
       "            criterion='gini', max_depth=None, max_features=7,\n",
       "            max_leaf_nodes=None, min_samples_leaf=1, min_samples_split=2,\n",
       "            min_weight_fraction_leaf=0.0, n_estimators=80, n_jobs=1,\n",
       "            oob_score=False, random_state=None, verbose=0,\n",
       "            warm_start=False)"
      ]
     },
     "execution_count": 97,
     "metadata": {},
     "output_type": "execute_result"
    }
   ],
   "source": [
    "n_estimators = 80\n",
    "max_features = 7\n",
    "weights = {0: 2, 1: 1}\n",
    "clf = RandomForestClassifier(n_estimators = 80,\n",
    "                             max_features=7,\n",
    "                             class_weight=weights,\n",
    "                             warm_start=False)\n",
    "\n",
    "clf.fit(X_train,y_train)"
   ]
  },
  {
   "cell_type": "markdown",
   "metadata": {},
   "source": [
    "## Test the model on the test set"
   ]
  },
  {
   "cell_type": "code",
   "execution_count": 98,
   "metadata": {
    "ExecuteTime": {
     "end_time": "2016-04-27T11:09:48.285409",
     "start_time": "2016-04-27T11:09:48.159248"
    },
    "collapsed": false
   },
   "outputs": [
    {
     "name": "stdout",
     "output_type": "stream",
     "text": [
      "Confusion matrix:\n",
      " [[1330  224]\n",
      " [ 323  623]]\n",
      "Normalized confusion matrix:\n",
      " [[ 0.532   0.0896]\n",
      " [ 0.1292  0.2492]]\n",
      "Accuracy:\n",
      " 0.7812\n",
      "ROC AUC:\n",
      " 0.832348015488\n"
     ]
    }
   ],
   "source": [
    "# Test on the training set:\n",
    "y_test_pred = clf.predict(X_test)\n",
    "\n",
    "# Print the confusion matrix\n",
    "mat = confusion_matrix(y_test, y_test_pred)\n",
    "num = np.sum(mat)\n",
    "print(\"Confusion matrix:\\n\", mat)\n",
    "print(\"Normalized confusion matrix:\\n\", mat/num)\n",
    "print(\"Accuracy:\\n\", (mat[0,0]+mat[1,1])/num)\n",
    "\n",
    "# Calculate the roc_auc score\n",
    "print('ROC AUC:\\n', roc_auc_score(y_test, clf.predict_proba(X_test)[:,1], average = 'weighted'))"
   ]
  },
  {
   "cell_type": "markdown",
   "metadata": {},
   "source": [
    "The accuracy on the test set agrees well with the OOB error rate of about 0.2 for our model parameters."
   ]
  },
  {
   "cell_type": "markdown",
   "metadata": {},
   "source": [
    "## Feature importances\n",
    "The random forest model also allows us to see which features were important for modeling the data."
   ]
  },
  {
   "cell_type": "code",
   "execution_count": 100,
   "metadata": {
    "ExecuteTime": {
     "end_time": "2016-04-27T11:11:17.786184",
     "start_time": "2016-04-27T11:11:17.769147"
    },
    "collapsed": false
   },
   "outputs": [
    {
     "name": "stdout",
     "output_type": "stream",
     "text": [
      "                Features    Scores\n",
      "17               endHour  0.131385\n",
      "13             startHour  0.128735\n",
      "19           endMonthday  0.110342\n",
      "15         startMonthday  0.097369\n",
      "6      buyItNowAvailable  0.091429\n",
      "1        productId_value  0.073820\n",
      "18            endWeekday  0.063566\n",
      "14          startWeekday  0.059124\n",
      "10          shippingType  0.043532\n",
      "5            listingType  0.040778\n",
      "9      expeditedShipping  0.028797\n",
      "12       returnsAccepted  0.023537\n",
      "3            conditionId  0.019814\n",
      "7       bestOfferEnabled  0.018616\n",
      "0         productId_type  0.018359\n",
      "2   conditionDisplayName  0.018032\n",
      "11        isShippingFree  0.010840\n",
      "16            startMonth  0.009505\n",
      "20              endMonth  0.005948\n",
      "4                country  0.003612\n",
      "8          paymentMethod  0.002860\n"
     ]
    }
   ],
   "source": [
    "cols = X.columns\n",
    "feature_scores = clf.feature_importances_\n",
    "\n",
    "score_card = pd.DataFrame.from_items([('Features', cols),('Scores', feature_scores)])\n",
    "score_card.sort_values(by = 'Scores', inplace=True, ascending=False)\n",
    "\n",
    "print(score_card)"
   ]
  },
  {
   "cell_type": "markdown",
   "metadata": {},
   "source": [
    "We see that the most important features have to do with the time of day that the listing started and ended and the day of month that the listing started and ended. These variables are may be highly correlated, so we should be careful not to read too much into the model at this point. We can say, however, that listing time features are predictive for the listing outcome."
   ]
  }
 ],
 "metadata": {
  "kernelspec": {
   "display_name": "Python 3",
   "language": "python",
   "name": "python3"
  },
  "language_info": {
   "codemirror_mode": {
    "name": "ipython",
    "version": 3
   },
   "file_extension": ".py",
   "mimetype": "text/x-python",
   "name": "python",
   "nbconvert_exporter": "python",
   "pygments_lexer": "ipython3",
   "version": "3.5.1"
  },
  "toc": {
   "toc_cell": false,
   "toc_number_sections": true,
   "toc_threshold": 6,
   "toc_window_display": false
  }
 },
 "nbformat": 4,
 "nbformat_minor": 0
}
