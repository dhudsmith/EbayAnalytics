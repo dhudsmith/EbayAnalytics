{
 "cells": [
  {
   "cell_type": "markdown",
   "metadata": {},
   "source": [
    "# Notebook description"
   ]
  },
  {
   "cell_type": "markdown",
   "metadata": {},
   "source": [
    "The purpose of this notebook is to determine the optimum values of the Random Forest Classifier (`scikit-learn`) model parameters. The parameters to optimize are\n",
    "* `n_estimators`: The number of trees in the random forest. Larger numbers decrease variance with diminishing returns with very large numbers of trees. In some cases larger numbers can increase model bias. \n",
    "* `max_features`: The number of features (input variables) to consider at each internal node of the trees in the random forest. Higher values of `max_features` tends to increase how much the model \"learns\" from the training data. Including too many features can easily lead to overfitting.\n",
    "\n",
    "To optimize these parameters, we split the data into a training and a test set. We train the data on the training set, choosing the values of `n_estimators` and `max_features` that maximizes the ROC AUC score on the test set.\n",
    "\n",
    "Since the data is sequenced in time, we split the data into 'old' (training) and 'new' (test) categories. This simulates the real world situation of predicting new outcomes that may be correlated in time with the training data."
   ]
  },
  {
   "cell_type": "markdown",
   "metadata": {},
   "source": [
    "# Preliminary"
   ]
  },
  {
   "cell_type": "code",
   "execution_count": 176,
   "metadata": {
    "ExecuteTime": {
     "end_time": "2016-05-04T13:29:37.335913",
     "start_time": "2016-05-04T13:29:37.293901"
    },
    "collapsed": true
   },
   "outputs": [],
   "source": [
    "# Imports\n",
    "%matplotlib inline\n",
    "import matplotlib.pylab as pylab\n",
    "pylab.rcParams['figure.figsize'] = (10, 6)\n",
    "import matplotlib.pyplot as plt\n",
    "from collections import OrderedDict\n",
    "from sklearn.ensemble import RandomForestClassifier, GradientBoostingClassifier\n",
    "from sklearn.metrics import confusion_matrix, roc_auc_score, classification_report\n",
    "import pandas as pd\n",
    "from dateutil.parser import parse\n",
    "from datetime import timedelta\n",
    "from pprint import pprint as pp\n",
    "import math\n",
    "\n",
    "RANDOM_STATE = 7"
   ]
  },
  {
   "cell_type": "code",
   "execution_count": 177,
   "metadata": {
    "ExecuteTime": {
     "end_time": "2016-05-04T13:29:37.537287",
     "start_time": "2016-05-04T13:29:37.337864"
    },
    "collapsed": false
   },
   "outputs": [
    {
     "name": "stdout",
     "output_type": "stream",
     "text": [
      "Shape: (44840, 22)\n",
      "Index(['productId_type', 'productId_value', 'conditionDisplayName',\n",
      "       'conditionId', 'endTime', 'country', 'listingType', 'buyItNowAvailable',\n",
      "       'bestOfferEnabled', 'paymentMethod', 'expeditedShipping',\n",
      "       'shippingType', 'isShippingFree', 'returnsAccepted',\n",
      "       'feedbackRatingStar', 'feedbackScore', 'positiveFeedbackPercent',\n",
      "       'topRatedSeller', 'value', 'sellingState', 'endHour', 'endWeekday'],\n",
      "      dtype='object')\n"
     ]
    }
   ],
   "source": [
    "# Import the ebay data set\n",
    "data = pd.read_csv('../Data/ebay_data_rf_endtime.csv', index_col=False)\n",
    "print(\"Shape:\", data.shape)\n",
    "pp(data.columns)"
   ]
  },
  {
   "cell_type": "markdown",
   "metadata": {},
   "source": [
    "# Preprocessing"
   ]
  },
  {
   "cell_type": "code",
   "execution_count": 178,
   "metadata": {
    "ExecuteTime": {
     "end_time": "2016-05-04T13:29:42.329558",
     "start_time": "2016-05-04T13:29:37.539730"
    },
    "collapsed": false
   },
   "outputs": [],
   "source": [
    "# Separate the target and inputs\n",
    "y = data.sellingState\n",
    "T = data.endTime\n",
    "X = data.drop(['sellingState','endTime'], axis=1)\n",
    "T_dt = [parse(x) for x in T]"
   ]
  },
  {
   "cell_type": "code",
   "execution_count": 179,
   "metadata": {
    "ExecuteTime": {
     "end_time": "2016-05-04T13:29:42.336391",
     "start_time": "2016-05-04T13:29:42.331943"
    },
    "collapsed": false
   },
   "outputs": [
    {
     "name": "stdout",
     "output_type": "stream",
     "text": [
      "Total days of data: 89.98267361111111\n"
     ]
    }
   ],
   "source": [
    "# Ebay gives you access to listings from the past 90 days\n",
    "DeltaT = (T_dt[0]-T_dt[-1])\n",
    "print(\"Total days of data:\", DeltaT.total_seconds()/86400)"
   ]
  },
  {
   "cell_type": "code",
   "execution_count": 180,
   "metadata": {
    "ExecuteTime": {
     "end_time": "2016-05-04T13:29:42.460045",
     "start_time": "2016-05-04T13:29:42.340477"
    },
    "collapsed": false
   },
   "outputs": [],
   "source": [
    "# Split the data into train and test. \n",
    "frac = 0.15\n",
    "ind = math.ceil(42028 * frac)\n",
    "\n",
    "test_ind = range(0,ind)\n",
    "train_ind = range(ind,len(y))\n",
    "\n",
    "X_train = X.iloc[train_ind]\n",
    "X_test = X.iloc[test_ind]\n",
    "y_train = y[list(train_ind)]\n",
    "y_test = y[list(test_ind)]"
   ]
  },
  {
   "cell_type": "code",
   "execution_count": 181,
   "metadata": {
    "ExecuteTime": {
     "end_time": "2016-05-04T13:29:42.466795",
     "start_time": "2016-05-04T13:29:42.462471"
    },
    "collapsed": false
   },
   "outputs": [
    {
     "name": "stdout",
     "output_type": "stream",
     "text": [
      "(38535, 20)\n",
      "(6305, 20)\n",
      "38535\n",
      "6305\n"
     ]
    }
   ],
   "source": [
    "print(X_train.shape)\n",
    "print(X_test.shape)\n",
    "print(len(y_train))\n",
    "print(len(y_test))"
   ]
  },
  {
   "cell_type": "markdown",
   "metadata": {},
   "source": [
    "# Optimizing the RF model parameters "
   ]
  },
  {
   "cell_type": "markdown",
   "metadata": {},
   "source": [
    "## `n_estimators`"
   ]
  },
  {
   "cell_type": "code",
   "execution_count": 182,
   "metadata": {
    "ExecuteTime": {
     "end_time": "2016-05-04T13:29:42.674155",
     "start_time": "2016-05-04T13:29:42.471533"
    },
    "collapsed": true
   },
   "outputs": [],
   "source": [
    "# NOTE: Setting the `warm_start` construction parameter to `True` disables\n",
    "# support for paralellised ensembles but is necessary for tracking the OOB\n",
    "# error trajectory during training.\n",
    "\n",
    "ensemble_clfs = [\n",
    "    (\"RandomForestClassifier, max_features='sqrt'\",\n",
    "        RandomForestClassifier(warm_start=True,\n",
    "                               max_features=\"sqrt\",\n",
    "                               oob_score=False,\n",
    "                               n_jobs = 3,\n",
    "                               random_state=RANDOM_STATE)),\n",
    "    (\"RandomForestClassifier, max_features=7\",\n",
    "        RandomForestClassifier(warm_start=True,\n",
    "                               max_features=7,\n",
    "                               n_jobs = 3,\n",
    "                               oob_score=False,\n",
    "                               random_state=RANDOM_STATE)),\n",
    "    (\"RandomForestClassifier, max_features='None'\",\n",
    "        RandomForestClassifier(warm_start=True,\n",
    "                               max_features=None,\n",
    "                               n_jobs = 3,\n",
    "                               oob_score=False,\n",
    "                               random_state=RANDOM_STATE))\n",
    "]"
   ]
  },
  {
   "cell_type": "code",
   "execution_count": 183,
   "metadata": {
    "ExecuteTime": {
     "end_time": "2016-05-04T13:31:10.348426",
     "start_time": "2016-05-04T13:29:42.676293"
    },
    "collapsed": false
   },
   "outputs": [],
   "source": [
    "# Map a classifier name to a list of (<n_estimators>, <auc_score>) pairs.\n",
    "auc_scores = OrderedDict((label, []) for label, _ in ensemble_clfs)\n",
    "\n",
    "# Range of `n_estimators` values to explore.\n",
    "min_estimators = 80\n",
    "max_estimators = 320\n",
    "\n",
    "for label, clf in ensemble_clfs:\n",
    "    for i in range(min_estimators, max_estimators + 1,5):\n",
    "        clf.set_params(n_estimators=i)\n",
    "        clf.fit(X_train, y_train)\n",
    "\n",
    "        # Record the ROC AUC error for each `n_estimators=i` setting.\n",
    "        y_pred = clf.predict_proba(X_test)[:,1]\n",
    "        auc = roc_auc_score(y_test, y_pred)\n",
    "        auc_scores[label].append((i, auc))"
   ]
  },
  {
   "cell_type": "code",
   "execution_count": 184,
   "metadata": {
    "ExecuteTime": {
     "end_time": "2016-05-04T13:31:10.802324",
     "start_time": "2016-05-04T13:31:10.350166"
    },
    "collapsed": false
   },
   "outputs": [
    {
     "data": {
      "image/png": "[encoded data removed]",
      "text/plain": [
       "<matplotlib.figure.Figure at 0x110066860>"
      ]
     },
     "metadata": {},
     "output_type": "display_data"
    }
   ],
   "source": [
    "for label, x in auc_scores.items():\n",
    "    xs, ys = zip(*x)\n",
    "    plt.plot(xs, ys, label=label)\n",
    "\n",
    "plt.title(\"Dependence of AUC score on `n_estimators`\")\n",
    "plt.xlim(min_estimators, max_estimators)\n",
    "plt.xlabel(\"n_estimators\")\n",
    "plt.ylabel(\"ROC AUC\")\n",
    "plt.legend(loc=\"lower left\")\n",
    "\n",
    "plt.show()"
   ]
  },
  {
   "cell_type": "code",
   "execution_count": 185,
   "metadata": {
    "ExecuteTime": {
     "end_time": "2016-05-04T13:31:10.833507",
     "start_time": "2016-05-04T13:31:10.807034"
    },
    "collapsed": false
   },
   "outputs": [
    {
     "name": "stdout",
     "output_type": "stream",
     "text": [
      "Best model: RandomForestClassifier, max_features='sqrt'\n",
      "Best (<n_estimators>, <roc auc>): (305, 0.81617955899413996)\n"
     ]
    }
   ],
   "source": [
    "# Select the model with the highest score\n",
    "\n",
    "# Get the curve with the best roc auc score\n",
    "g = lambda x: x[1]\n",
    "f = lambda y: max( y[1], key = g)\n",
    "best_model = max(list(auc_scores.items()), key = f)\n",
    "\n",
    "print(\"Best model:\", best_model[0])\n",
    "\n",
    "# Get the best score for the model\n",
    "best_score = max(best_model[1], key = g)\n",
    "\n",
    "print(\"Best (<n_estimators>, <roc auc>):\", best_score)"
   ]
  },
  {
   "cell_type": "markdown",
   "metadata": {},
   "source": [
    "`n_estimators` = 200 is probably good enough."
   ]
  },
  {
   "cell_type": "markdown",
   "metadata": {},
   "source": [
    "## `max_features`"
   ]
  },
  {
   "cell_type": "code",
   "execution_count": 186,
   "metadata": {
    "ExecuteTime": {
     "end_time": "2016-05-04T13:31:11.036928",
     "start_time": "2016-05-04T13:31:10.840893"
    },
    "collapsed": true
   },
   "outputs": [],
   "source": [
    "n_estimators = 150\n",
    "ensemble_clfs = [\n",
    "    (\"RandomForestClassifier, max_features='Variable'\",\n",
    "        RandomForestClassifier(n_estimators = n_estimators,\n",
    "                               oob_score=False,\n",
    "                               n_jobs = 3,\n",
    "                               random_state=RANDOM_STATE)),\n",
    "]"
   ]
  },
  {
   "cell_type": "code",
   "execution_count": 187,
   "metadata": {
    "ExecuteTime": {
     "end_time": "2016-05-04T13:35:09.000788",
     "start_time": "2016-05-04T13:31:11.039153"
    },
    "collapsed": false
   },
   "outputs": [],
   "source": [
    "# Map a classifier name to a list of (<max_features>, <auc_score>) pairs.\n",
    "auc_scores = OrderedDict((label, []) for label, _ in ensemble_clfs)\n",
    "\n",
    "# Range of `n_estimators` values to explore.\n",
    "min_par = 1\n",
    "max_par = len(X_train.columns)\n",
    "\n",
    "for label, clf in ensemble_clfs:\n",
    "    for i in range(min_par, max_par + 1):\n",
    "        clf.set_params(max_features=i)\n",
    "        clf.fit(X_train, y_train)\n",
    "\n",
    "        # Record the ROC AUC error for each `max_features=i` setting.\n",
    "        y_pred = clf.predict_proba(X_test)[:,1]\n",
    "        auc = roc_auc_score(y_test, y_pred)\n",
    "        auc_scores[label].append((i, auc))"
   ]
  },
  {
   "cell_type": "code",
   "execution_count": 188,
   "metadata": {
    "ExecuteTime": {
     "end_time": "2016-05-04T13:35:09.261478",
     "start_time": "2016-05-04T13:35:09.003117"
    },
    "collapsed": false
   },
   "outputs": [
    {
     "data": {
      "image/png": "[encoded data removed]",
      "text/plain": [
       "<matplotlib.figure.Figure at 0x109477198>"
      ]
     },
     "metadata": {},
     "output_type": "display_data"
    }
   ],
   "source": [
    "for label, x in auc_scores.items():\n",
    "    xs, ys = zip(*x)\n",
    "    plt.plot(xs, ys, label=label)\n",
    "\n",
    "plt.title(\"Dependence of AUC score on `max_features`\")\n",
    "plt.xlim(min_par, max_par)\n",
    "plt.xlabel(\"max_features\")\n",
    "plt.ylabel(\"ROC AUC\")\n",
    "\n",
    "plt.show()"
   ]
  },
  {
   "cell_type": "code",
   "execution_count": 189,
   "metadata": {
    "ExecuteTime": {
     "end_time": "2016-05-04T13:35:09.273730",
     "start_time": "2016-05-04T13:35:09.263296"
    },
    "collapsed": false
   },
   "outputs": [
    {
     "name": "stdout",
     "output_type": "stream",
     "text": [
      "n_featres= 150\n",
      "Best (<max_features>, <roc auc>): (3, 0.81566583751660404)\n"
     ]
    }
   ],
   "source": [
    "# Select the model with the highest score\n",
    "\n",
    "# Get the curve with the best roc auc score\n",
    "g = lambda x: x[1]\n",
    "f = lambda y: max( y[1], key = g)\n",
    "best_model = max(list(auc_scores.items()), key = f)\n",
    "\n",
    "# Get the best score for the model\n",
    "best_score = max(best_model[1], key = g)\n",
    "\n",
    "print(\"n_featres=\", 150)\n",
    "print(\"Best (<max_features>, <roc auc>):\", best_score)"
   ]
  },
  {
   "cell_type": "markdown",
   "metadata": {},
   "source": [
    "Perhaps surprisingly, the ROC AUC score favors a relatively small value for `max_features`."
   ]
  }
 ],
 "metadata": {
  "kernelspec": {
   "display_name": "Python 3",
   "language": "python",
   "name": "python3"
  },
  "language_info": {
   "codemirror_mode": {
    "name": "ipython",
    "version": 3
   },
   "file_extension": ".py",
   "mimetype": "text/x-python",
   "name": "python",
   "nbconvert_exporter": "python",
   "pygments_lexer": "ipython3",
   "version": "3.5.1"
  },
  "toc": {
   "toc_cell": false,
   "toc_number_sections": true,
   "toc_threshold": 6,
   "toc_window_display": false
  }
 },
 "nbformat": 4,
 "nbformat_minor": 0
}
