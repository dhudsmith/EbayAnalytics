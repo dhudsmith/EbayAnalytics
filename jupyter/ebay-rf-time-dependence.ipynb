{
 "cells": [
  {
   "cell_type": "markdown",
   "metadata": {},
   "source": [
    "# Imports"
   ]
  },
  {
   "cell_type": "code",
   "execution_count": 1,
   "metadata": {
    "ExecuteTime": {
     "end_time": "2016-05-03T21:09:29.574567",
     "start_time": "2016-05-03T21:09:25.791414"
    },
    "collapsed": false
   },
   "outputs": [],
   "source": [
    "%matplotlib inline\n",
    "import matplotlib.pylab as pylab\n",
    "pylab.rcParams['figure.figsize'] = (10, 6)\n",
    "import matplotlib.pyplot as plt\n",
    "import pandas as pd\n",
    "import numpy as np\n",
    "import math\n",
    "from sklearn.feature_selection import VarianceThreshold\n",
    "from sklearn.cross_validation import train_test_split\n",
    "from sklearn.ensemble import RandomForestClassifier\n",
    "from sklearn.metrics import confusion_matrix, roc_auc_score, classification_report\n",
    "from dateutil.parser import parse\n",
    "from datetime import timedelta\n",
    "import pprint as pp"
   ]
  },
  {
   "cell_type": "code",
   "execution_count": 3,
   "metadata": {
    "ExecuteTime": {
     "end_time": "2016-05-03T21:09:43.083721",
     "start_time": "2016-05-03T21:09:42.896095"
    },
    "collapsed": false
   },
   "outputs": [],
   "source": [
    "# Read in the pandas.DataFrame from csv\n",
    "data = pd.read_csv('../Data/ebay_data_rf_endtime.csv', index_col=False)"
   ]
  },
  {
   "cell_type": "markdown",
   "metadata": {},
   "source": [
    "# Random forest model"
   ]
  },
  {
   "cell_type": "markdown",
   "metadata": {},
   "source": [
    "Our eBay data contains primarily categorical variables. Thus, random forest is a natural option for modeling the dataset, because the random forest algorithm is based on decision trees which naturally handle categorical data."
   ]
  },
  {
   "cell_type": "markdown",
   "metadata": {},
   "source": [
    "## Preprocessing"
   ]
  },
  {
   "cell_type": "code",
   "execution_count": 4,
   "metadata": {
    "ExecuteTime": {
     "end_time": "2016-05-03T21:09:49.933067",
     "start_time": "2016-05-03T21:09:45.790590"
    },
    "collapsed": true
   },
   "outputs": [],
   "source": [
    "# Separate target variable from inputs\n",
    "y = data.sellingState\n",
    "T = data.endTime\n",
    "X = data.drop(['sellingState','endTime'], axis=1)\n",
    "T_dt = [parse(x) for x in T]"
   ]
  },
  {
   "cell_type": "markdown",
   "metadata": {},
   "source": [
    "We can easily see the 90 day limitation of the ebay API:"
   ]
  },
  {
   "cell_type": "code",
   "execution_count": 5,
   "metadata": {
    "ExecuteTime": {
     "end_time": "2016-05-03T21:09:49.940210",
     "start_time": "2016-05-03T21:09:49.935196"
    },
    "collapsed": false
   },
   "outputs": [
    {
     "name": "stdout",
     "output_type": "stream",
     "text": [
      "Total days of data: 89.98267361111111\n"
     ]
    }
   ],
   "source": [
    "DeltaT = (T_dt[0]-T_dt[-1])\n",
    "print(\"Total days of data:\", DeltaT.total_seconds()/86400)"
   ]
  },
  {
   "cell_type": "code",
   "execution_count": 6,
   "metadata": {
    "ExecuteTime": {
     "end_time": "2016-05-03T21:09:51.248445",
     "start_time": "2016-05-03T21:09:51.092055"
    },
    "collapsed": false
   },
   "outputs": [],
   "source": [
    "# Calculate the sample weights\n",
    "def get_days_diff(dt1 , dt2): \n",
    "    return (dt1 - dt2).total_seconds()/(86400) \n",
    "    # 86400 s/day = 60 s/min * 60 min/hr *24 hr/day\n",
    "\n",
    "def get_weight(dt, dt_ref, sigma):\n",
    "\n",
    "    hrs = get_days_diff(dt,dt_ref)\n",
    "    \n",
    "    return math.exp( -hrs**2 / (2 * sigma) )\n",
    "\n",
    "def get_sample_weights(dt_ls, sigma):\n",
    "    latest = max(dt_ls)\n",
    "    return [get_weight(x, latest, sigma) for x in dt_ls]\n",
    "\n",
    "sw = get_sample_weights(T_dt, 2)"
   ]
  },
  {
   "cell_type": "code",
   "execution_count": 7,
   "metadata": {
    "ExecuteTime": {
     "end_time": "2016-05-03T21:09:53.537360",
     "start_time": "2016-05-03T21:09:53.444981"
    },
    "collapsed": false
   },
   "outputs": [],
   "source": [
    "# Split the data into train and test. \n",
    "#Since we are going to optimize sigma, we split into old and new\n",
    "frac = 0.1\n",
    "ind = math.ceil(42028 * frac)\n",
    "\n",
    "test_ind = range(0,ind)\n",
    "train_ind = range(ind,len(y))\n",
    "\n",
    "X_train = X.iloc[train_ind]\n",
    "X_test = X.iloc[test_ind]\n",
    "y_train = y[list(train_ind)]\n",
    "y_test = y[list(test_ind)]\n",
    "\n",
    "T_dt_train = T_dt[ind:len(y)]"
   ]
  },
  {
   "cell_type": "code",
   "execution_count": 8,
   "metadata": {
    "ExecuteTime": {
     "end_time": "2016-05-03T21:09:54.813556",
     "start_time": "2016-05-03T21:09:54.807920"
    },
    "collapsed": false
   },
   "outputs": [
    {
     "name": "stdout",
     "output_type": "stream",
     "text": [
      "5.420335648148148 169.1246759259259\n"
     ]
    }
   ],
   "source": [
    "min_sigma = (T_dt[0]-T_dt[ind]).total_seconds()/86400\n",
    "max_sigma = 2*(T_dt_train[0]-T_dt_train[-1]).total_seconds()/86400\n",
    "print(min_sigma, max_sigma)"
   ]
  },
  {
   "cell_type": "code",
   "execution_count": 9,
   "metadata": {
    "ExecuteTime": {
     "end_time": "2016-05-03T21:09:56.944923",
     "start_time": "2016-05-03T21:09:56.939936"
    },
    "collapsed": false
   },
   "outputs": [
    {
     "name": "stdout",
     "output_type": "stream",
     "text": [
      "(40637, 20)\n",
      "(4203, 20)\n",
      "40637\n",
      "4203\n",
      "40637\n"
     ]
    }
   ],
   "source": [
    "print(X_train.shape)\n",
    "print(X_test.shape)\n",
    "print(len(y_train))\n",
    "print(len(y_test))\n",
    "print(len(T_dt_train))"
   ]
  },
  {
   "cell_type": "markdown",
   "metadata": {},
   "source": [
    "## Classification"
   ]
  },
  {
   "cell_type": "code",
   "execution_count": 11,
   "metadata": {
    "ExecuteTime": {
     "end_time": "2016-05-03T21:10:17.109138",
     "start_time": "2016-05-03T21:10:17.103356"
    },
    "collapsed": false
   },
   "outputs": [],
   "source": [
    "# Assign the classifier\n",
    "n_estimators = 200\n",
    "max_features = None\n",
    "weights = {0: 1, 1: 1}\n",
    "RANDOM_STATE = 3\n",
    "clf = RandomForestClassifier(n_estimators = n_estimators,\n",
    "                             max_features=max_features,\n",
    "                             class_weight=weights,\n",
    "                             oob_score=False,\n",
    "                             n_jobs = 3,\n",
    "                             random_state = RANDOM_STATE\n",
    "                            )"
   ]
  },
  {
   "cell_type": "code",
   "execution_count": 12,
   "metadata": {
    "ExecuteTime": {
     "end_time": "2016-05-03T21:13:35.058671",
     "start_time": "2016-05-03T21:10:23.299608"
    },
    "collapsed": false
   },
   "outputs": [
    {
     "data": {
      "text/plain": [
       "[(5.4203356481481482, 0.80942259675405748),\n",
       " (20.302548400673398, 0.82021061635918069),\n",
       " (35.18476115319865, 0.81895015489896883),\n",
       " (50.066973905723898, 0.81967818005271187),\n",
       " (64.949186658249147, 0.82205079299024353),\n",
       " (79.831399410774409, 0.8226099320294078),\n",
       " (94.713612163299658, 0.82167602996254674),\n",
       " (109.59582491582491, 0.81951923521524039),\n",
       " (124.47803766835015, 0.82002670273269507),\n",
       " (139.36025042087542, 0.81850002311924908),\n",
       " (154.24246317340067, 0.81945010866047074),\n",
       " (169.12467592592591, 0.82016171914736213)]"
      ]
     },
     "execution_count": 12,
     "metadata": {},
     "output_type": "execute_result"
    }
   ],
   "source": [
    "# Calculate the Auc_error for a range of time windows\n",
    "aucs = []\n",
    "\n",
    "# Range of sigma to explore (in days)\n",
    "n_pts = 12\n",
    "pts = np.linspace(min_sigma, max_sigma, n_pts)\n",
    "\n",
    "for sig in pts:\n",
    "    sw = get_sample_weights(T_dt_train, sig)\n",
    "    clf.fit(X_train, y_train, sw)\n",
    "    y_pred = clf.predict_proba(X_test)[:,1]\n",
    "    aucs.append( (sig, roc_auc_score(y_test, y_pred)) )\n",
    "    \n",
    "aucs"
   ]
  },
  {
   "cell_type": "markdown",
   "metadata": {},
   "source": [
    "## Plot the results"
   ]
  },
  {
   "cell_type": "code",
   "execution_count": 13,
   "metadata": {
    "ExecuteTime": {
     "end_time": "2016-05-03T21:13:35.464147",
     "start_time": "2016-05-03T21:13:35.060667"
    },
    "collapsed": false
   },
   "outputs": [
    {
     "data": {
      "image/png": "[encoded data removed]",
      "text/plain": [
       "<matplotlib.figure.Figure at 0x10a2b3e48>"
      ]
     },
     "metadata": {},
     "output_type": "display_data"
    }
   ],
   "source": [
    "xs, ys = zip(*aucs)\n",
    "\n",
    "plt.plot(xs, ys)\n",
    "\n",
    "plt.title(\"Dependence of roc auc score on sigma\")\n",
    "plt.xlim(min_sigma, max_sigma)\n",
    "plt.xlabel(\"sigma (days)\")\n",
    "plt.ylabel(\"roc auc score\")\n",
    "\n",
    "plt.show()"
   ]
  },
  {
   "cell_type": "code",
   "execution_count": 14,
   "metadata": {
    "ExecuteTime": {
     "end_time": "2016-05-03T21:13:35.485504",
     "start_time": "2016-05-03T21:13:35.466596"
    },
    "collapsed": false
   },
   "outputs": [
    {
     "data": {
      "text/plain": [
       "(79.831399410774409, 0.8226099320294078)"
      ]
     },
     "execution_count": 14,
     "metadata": {},
     "output_type": "execute_result"
    }
   ],
   "source": [
    "# Find the maximum value\n",
    "max(aucs, key = lambda x: x[1])"
   ]
  },
  {
   "cell_type": "markdown",
   "metadata": {},
   "source": [
    "It doesn't appear that over the timescale of the available data that the there is any benefit to adjusting the sample weights for older data. While older data doesn't appear to be neccessary to constrain the fit, it doesn't harm the fitting either. Perhaps as the data set grows, the time dependence will become an issue. At present, we will sample all data points equally."
   ]
  },
  {
   "cell_type": "code",
   "execution_count": null,
   "metadata": {
    "collapsed": true
   },
   "outputs": [],
   "source": []
  }
 ],
 "metadata": {
  "kernelspec": {
   "display_name": "Python 3",
   "language": "python",
   "name": "python3"
  },
  "language_info": {
   "codemirror_mode": {
    "name": "ipython",
    "version": 3
   },
   "file_extension": ".py",
   "mimetype": "text/x-python",
   "name": "python",
   "nbconvert_exporter": "python",
   "pygments_lexer": "ipython3",
   "version": "3.5.1"
  },
  "toc": {
   "toc_cell": false,
   "toc_number_sections": true,
   "toc_threshold": 6,
   "toc_window_display": false
  }
 },
 "nbformat": 4,
 "nbformat_minor": 0
}
