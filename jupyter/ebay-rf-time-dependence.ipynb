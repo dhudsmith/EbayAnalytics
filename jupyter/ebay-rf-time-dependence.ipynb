{
 "cells": [
  {
   "cell_type": "markdown",
   "metadata": {},
   "source": [
    "# Notebook description"
   ]
  },
  {
   "cell_type": "markdown",
   "metadata": {},
   "source": [
    "The purpose of this notebook is to determine whether or not the time dependence of the data is important for predicting the outcome of ebay sales. We try to answer this question simply by giving the training data time-dependent weights that decrease for older times at a rate determined by a model parameter $\\sigma$. Roughly speaking, $\\sigma$ parametrizes how far into the past the model sees when training. After training, we score the model (ROC AUC) on test data that is temporally after all the points in the training data. We then tune $\\sigma$ to maximize the test score."
   ]
  },
  {
   "cell_type": "markdown",
   "metadata": {},
   "source": [
    "# Imports"
   ]
  },
  {
   "cell_type": "code",
   "execution_count": 14,
   "metadata": {
    "ExecuteTime": {
     "end_time": "2016-05-04T13:49:46.915912",
     "start_time": "2016-05-04T13:49:46.896039"
    },
    "collapsed": false
   },
   "outputs": [],
   "source": [
    "%matplotlib inline\n",
    "import matplotlib.pylab as pylab\n",
    "pylab.rcParams['figure.figsize'] = (10, 6)\n",
    "import matplotlib.pyplot as plt\n",
    "import pandas as pd\n",
    "import numpy as np\n",
    "import math\n",
    "from sklearn.feature_selection import VarianceThreshold\n",
    "from sklearn.cross_validation import train_test_split\n",
    "from sklearn.ensemble import RandomForestClassifier\n",
    "from sklearn.metrics import confusion_matrix, roc_auc_score, classification_report\n",
    "from dateutil.parser import parse\n",
    "from datetime import timedelta\n",
    "import pprint as pp"
   ]
  },
  {
   "cell_type": "code",
   "execution_count": 15,
   "metadata": {
    "ExecuteTime": {
     "end_time": "2016-05-04T13:49:47.123506",
     "start_time": "2016-05-04T13:49:46.917935"
    },
    "collapsed": false
   },
   "outputs": [],
   "source": [
    "# Read in the pandas.DataFrame from csv\n",
    "data = pd.read_csv('../Data/ebay_data_rf_endtime.csv', index_col=False)"
   ]
  },
  {
   "cell_type": "markdown",
   "metadata": {},
   "source": [
    "# Preprocessing"
   ]
  },
  {
   "cell_type": "code",
   "execution_count": 16,
   "metadata": {
    "ExecuteTime": {
     "end_time": "2016-05-04T13:49:51.570651",
     "start_time": "2016-05-04T13:49:47.126362"
    },
    "collapsed": true
   },
   "outputs": [],
   "source": [
    "# Separate target variable from inputs\n",
    "y = data.sellingState\n",
    "T = data.endTime\n",
    "X = data.drop(['sellingState','endTime'], axis=1)\n",
    "T_dt = [parse(x) for x in T]"
   ]
  },
  {
   "cell_type": "markdown",
   "metadata": {},
   "source": [
    "We can easily see the 90 day limitation of the ebay API:"
   ]
  },
  {
   "cell_type": "code",
   "execution_count": 17,
   "metadata": {
    "ExecuteTime": {
     "end_time": "2016-05-04T13:49:51.579466",
     "start_time": "2016-05-04T13:49:51.573142"
    },
    "collapsed": false
   },
   "outputs": [
    {
     "name": "stdout",
     "output_type": "stream",
     "text": [
      "Total days of data: 89.98267361111111\n"
     ]
    }
   ],
   "source": [
    "DeltaT = (T_dt[0]-T_dt[-1])\n",
    "print(\"Total days of data:\", DeltaT.total_seconds()/86400)"
   ]
  },
  {
   "cell_type": "markdown",
   "metadata": {},
   "source": [
    "# Testing time dependence"
   ]
  },
  {
   "cell_type": "markdown",
   "metadata": {},
   "source": [
    "## Determine sample weights based on time"
   ]
  },
  {
   "cell_type": "code",
   "execution_count": 18,
   "metadata": {
    "ExecuteTime": {
     "end_time": "2016-05-04T13:49:51.758534",
     "start_time": "2016-05-04T13:49:51.583834"
    },
    "collapsed": false
   },
   "outputs": [],
   "source": [
    "# Calculate the sample weights\n",
    "def get_days_diff(dt1 , dt2): \n",
    "    return (dt1 - dt2).total_seconds()/(86400) \n",
    "    # 86400 s/day = 60 s/min * 60 min/hr *24 hr/day\n",
    "\n",
    "def get_weight(dt, dt_ref, sigma):\n",
    "\n",
    "    hrs = get_days_diff(dt,dt_ref)\n",
    "    \n",
    "    return math.exp( -hrs**2 / (2 * sigma) )\n",
    "\n",
    "def get_sample_weights(dt_ls, sigma):\n",
    "    latest = max(dt_ls)\n",
    "    return [get_weight(x, latest, sigma) for x in dt_ls]\n",
    "\n",
    "sw = get_sample_weights(T_dt, 2)"
   ]
  },
  {
   "cell_type": "code",
   "execution_count": 19,
   "metadata": {
    "ExecuteTime": {
     "end_time": "2016-05-04T13:49:51.853039",
     "start_time": "2016-05-04T13:49:51.760911"
    },
    "collapsed": false
   },
   "outputs": [],
   "source": [
    "# Split the data into train and test. \n",
    "#Since we are going to optimize sigma, we split into old and new\n",
    "frac = 0.1\n",
    "ind = math.ceil(42028 * frac)\n",
    "\n",
    "test_ind = range(0,ind)\n",
    "train_ind = range(ind,len(y))\n",
    "\n",
    "X_train = X.iloc[train_ind]\n",
    "X_test = X.iloc[test_ind]\n",
    "y_train = y[list(train_ind)]\n",
    "y_test = y[list(test_ind)]\n",
    "\n",
    "T_dt_train = T_dt[ind:len(y)]"
   ]
  },
  {
   "cell_type": "code",
   "execution_count": 20,
   "metadata": {
    "ExecuteTime": {
     "end_time": "2016-05-04T13:49:51.860140",
     "start_time": "2016-05-04T13:49:51.855430"
    },
    "collapsed": false
   },
   "outputs": [
    {
     "name": "stdout",
     "output_type": "stream",
     "text": [
      "5.420335648148148 169.1246759259259\n"
     ]
    }
   ],
   "source": [
    "min_sigma = (T_dt[0]-T_dt[ind]).total_seconds()/86400\n",
    "max_sigma = 2*(T_dt_train[0]-T_dt_train[-1]).total_seconds()/86400\n",
    "print(min_sigma, max_sigma)"
   ]
  },
  {
   "cell_type": "code",
   "execution_count": 21,
   "metadata": {
    "ExecuteTime": {
     "end_time": "2016-05-04T13:49:51.874023",
     "start_time": "2016-05-04T13:49:51.865213"
    },
    "collapsed": false
   },
   "outputs": [
    {
     "name": "stdout",
     "output_type": "stream",
     "text": [
      "(40637, 20)\n",
      "(4203, 20)\n",
      "40637\n",
      "4203\n",
      "40637\n"
     ]
    }
   ],
   "source": [
    "print(X_train.shape)\n",
    "print(X_test.shape)\n",
    "print(len(y_train))\n",
    "print(len(y_test))\n",
    "print(len(T_dt_train))"
   ]
  },
  {
   "cell_type": "markdown",
   "metadata": {},
   "source": [
    "## The classifier model"
   ]
  },
  {
   "cell_type": "code",
   "execution_count": 22,
   "metadata": {
    "ExecuteTime": {
     "end_time": "2016-05-04T13:49:51.946100",
     "start_time": "2016-05-04T13:49:51.880010"
    },
    "collapsed": false
   },
   "outputs": [],
   "source": [
    "# Assign the classifier\n",
    "n_estimators = 200\n",
    "max_features = 10\n",
    "weights = {0: 1, 1: 1}\n",
    "RANDOM_STATE = 3\n",
    "clf = RandomForestClassifier(n_estimators = n_estimators,\n",
    "                             max_features=max_features,\n",
    "                             class_weight=weights,\n",
    "                             oob_score=False,\n",
    "                             n_jobs = 3,\n",
    "                             random_state = RANDOM_STATE\n",
    "                            )"
   ]
  },
  {
   "cell_type": "markdown",
   "metadata": {},
   "source": [
    "## Scan over $\\sigma$ values"
   ]
  },
  {
   "cell_type": "code",
   "execution_count": 23,
   "metadata": {
    "ExecuteTime": {
     "end_time": "2016-05-04T13:54:10.574911",
     "start_time": "2016-05-04T13:49:51.948969"
    },
    "collapsed": false
   },
   "outputs": [
    {
     "data": {
      "text/plain": [
       "[(5.4203356481481482, 0.81541152263374483),\n",
       " (11.065312899106001, 0.81960373607065229),\n",
       " (16.710290150063855, 0.82324848568918485),\n",
       " (22.355267401021706, 0.82406089610209454),\n",
       " (28.000244651979564, 0.81975227724603505),\n",
       " (33.645221902937415, 0.82390368520830437),\n",
       " (39.290199153895266, 0.82276714292319775),\n",
       " (44.935176404853124, 0.82274252092292044),\n",
       " (50.580153655810975, 0.82325137559532069),\n",
       " (56.225130906768825, 0.82407257132288336),\n",
       " (61.870108157726683, 0.82440548850973316),\n",
       " (67.515085408684541, 0.82455795995746062),\n",
       " (73.160062659642392, 0.82604579923244081),\n",
       " (78.805039910600243, 0.82551243815600872),\n",
       " (84.450017161558108, 0.82552677209044245),\n",
       " (90.094994412515959, 0.82560202524621995),\n",
       " (95.73997166347381, 0.82570548388588338),\n",
       " (101.38494891443166, 0.82482683682433999),\n",
       " (107.02992616538951, 0.82477158181902255),\n",
       " (112.67490341634738, 0.82674700605724327),\n",
       " (118.31988066730523, 0.82615781199426641),\n",
       " (123.96485791826308, 0.82548561982706803),\n",
       " (129.60983516922093, 0.8265578905997133),\n",
       " (135.25481242017878, 0.82324305266564923),\n",
       " (140.89978967113663, 0.82384692745179633),\n",
       " (146.54476692209448, 0.82403465575438095),\n",
       " (152.18974417305233, 0.82529650436953816),\n",
       " (157.83472142401021, 0.82376855319739217),\n",
       " (163.47969867496806, 0.82289464558191139),\n",
       " (169.12467592592591, 0.82358475516715213)]"
      ]
     },
     "execution_count": 23,
     "metadata": {},
     "output_type": "execute_result"
    }
   ],
   "source": [
    "# Calculate the Auc_error for a range of time windows\n",
    "aucs = []\n",
    "\n",
    "# Range of sigma to explore (in days)\n",
    "n_pts = 30\n",
    "pts = np.linspace(min_sigma, max_sigma, n_pts)\n",
    "\n",
    "for sig in pts:\n",
    "    sw = get_sample_weights(T_dt_train, sig)\n",
    "    clf.fit(X_train, y_train, sw)\n",
    "    y_pred = clf.predict_proba(X_test)[:,1]\n",
    "    aucs.append( (sig, roc_auc_score(y_test, y_pred)) )\n",
    "    \n",
    "aucs"
   ]
  },
  {
   "cell_type": "markdown",
   "metadata": {},
   "source": [
    "## Plot the results"
   ]
  },
  {
   "cell_type": "code",
   "execution_count": 24,
   "metadata": {
    "ExecuteTime": {
     "end_time": "2016-05-04T13:54:10.932392",
     "start_time": "2016-05-04T13:54:10.576814"
    },
    "collapsed": false
   },
   "outputs": [
    {
     "data": {
      "image/png": "[encoded data removed]",
      "text/plain": [
       "<matplotlib.figure.Figure at 0x10a2fb390>"
      ]
     },
     "metadata": {},
     "output_type": "display_data"
    }
   ],
   "source": [
    "xs, ys = zip(*aucs)\n",
    "\n",
    "plt.plot(xs, ys)\n",
    "\n",
    "plt.title(\"Dependence of roc auc score on sigma\")\n",
    "plt.xlim(min_sigma, max_sigma)\n",
    "plt.xlabel(\"sigma (days)\")\n",
    "plt.ylabel(\"roc auc score\")\n",
    "\n",
    "plt.show()"
   ]
  },
  {
   "cell_type": "code",
   "execution_count": 25,
   "metadata": {
    "ExecuteTime": {
     "end_time": "2016-05-04T13:54:10.940115",
     "start_time": "2016-05-04T13:54:10.934162"
    },
    "collapsed": false
   },
   "outputs": [
    {
     "data": {
      "text/plain": [
       "(112.67490341634738, 0.82674700605724327)"
      ]
     },
     "execution_count": 25,
     "metadata": {},
     "output_type": "execute_result"
    }
   ],
   "source": [
    "# Find the maximum value\n",
    "max(aucs, key = lambda x: x[1])"
   ]
  },
  {
   "cell_type": "markdown",
   "metadata": {},
   "source": [
    "It doesn't appear that over the timescale of the available data (~90 days) that there is any benefit to adjusting the sample weights for older data. While older data doesn't appear to be neccessary to constrain the fit, it doesn't harm the fitting either. Perhaps as the data set grows, the time dependence will become an issue. At present, we will sample all data points equally."
   ]
  }
 ],
 "metadata": {
  "kernelspec": {
   "display_name": "Python 3",
   "language": "python",
   "name": "python3"
  },
  "language_info": {
   "codemirror_mode": {
    "name": "ipython",
    "version": 3
   },
   "file_extension": ".py",
   "mimetype": "text/x-python",
   "name": "python",
   "nbconvert_exporter": "python",
   "pygments_lexer": "ipython3",
   "version": "3.5.1"
  },
  "toc": {
   "toc_cell": false,
   "toc_number_sections": true,
   "toc_threshold": 6,
   "toc_window_display": false
  }
 },
 "nbformat": 4,
 "nbformat_minor": 0
}
