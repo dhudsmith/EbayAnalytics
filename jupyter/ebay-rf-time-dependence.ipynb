{
 "cells": [
  {
   "cell_type": "markdown",
   "metadata": {},
   "source": [
    "# Imports"
   ]
  },
  {
   "cell_type": "code",
   "execution_count": 1,
   "metadata": {
    "ExecuteTime": {
     "end_time": "2016-05-03T07:33:23.766585",
     "start_time": "2016-05-03T07:33:20.481538"
    },
    "collapsed": false
   },
   "outputs": [],
   "source": [
    "%matplotlib inline\n",
    "import matplotlib.pylab as pylab\n",
    "pylab.rcParams['figure.figsize'] = (10, 6)\n",
    "import matplotlib.pyplot as plt\n",
    "import pandas as pd\n",
    "import numpy as np\n",
    "import math\n",
    "from sklearn.feature_selection import VarianceThreshold\n",
    "from sklearn.cross_validation import train_test_split\n",
    "from sklearn.ensemble import RandomForestClassifier\n",
    "from sklearn.metrics import confusion_matrix, roc_auc_score, classification_report\n",
    "from dateutil.parser import parse\n",
    "from datetime import timedelta\n",
    "import pprint as pp"
   ]
  },
  {
   "cell_type": "code",
   "execution_count": 2,
   "metadata": {
    "ExecuteTime": {
     "end_time": "2016-05-03T07:33:23.814631",
     "start_time": "2016-05-03T07:33:23.769074"
    },
    "collapsed": true
   },
   "outputs": [],
   "source": [
    "# Read in the pandas.DataFrame from csv\n",
    "data = pd.read_csv('../DataAnalysis/RandomForest/ebay_data_rf.csv', index_col=False)"
   ]
  },
  {
   "cell_type": "markdown",
   "metadata": {},
   "source": [
    "# Random forest model"
   ]
  },
  {
   "cell_type": "markdown",
   "metadata": {},
   "source": [
    "Our eBay data contains primarily categorical variables. Thus, random forest is a natural option for modeling the dataset, because the random forest algorithm is based on decision trees which naturally handle categorical data."
   ]
  },
  {
   "cell_type": "markdown",
   "metadata": {},
   "source": [
    "## Preprocessing"
   ]
  },
  {
   "cell_type": "code",
   "execution_count": 3,
   "metadata": {
    "ExecuteTime": {
     "end_time": "2016-05-03T07:33:24.717163",
     "start_time": "2016-05-03T07:33:23.817441"
    },
    "collapsed": true
   },
   "outputs": [],
   "source": [
    "# Separate target variable from inputs\n",
    "y = data.sellingState\n",
    "T = data.endTime\n",
    "X = data.drop(['sellingState','endTime'], axis=1)\n",
    "T_dt = [parse(x) for x in T]"
   ]
  },
  {
   "cell_type": "code",
   "execution_count": 4,
   "metadata": {
    "ExecuteTime": {
     "end_time": "2016-05-03T07:33:24.763510",
     "start_time": "2016-05-03T07:33:24.719595"
    },
    "collapsed": false
   },
   "outputs": [],
   "source": [
    "# Calculate the sample weights\n",
    "def get_days_diff(dt1 , dt2): \n",
    "    return (dt1 - dt2).total_seconds()/(86400) \n",
    "    # 86400 s/day = 60 s/min * 60 min/hr *24 hr/day\n",
    "\n",
    "def get_weight(dt, dt_ref, sigma):\n",
    "\n",
    "    hrs = get_days_diff(dt,dt_ref)\n",
    "    \n",
    "    return math.exp( -hrs**2 / (2 * sigma) )\n",
    "\n",
    "def get_sample_weights(dt_ls, sigma):\n",
    "    latest = max(dt_ls)\n",
    "    return [get_weight(x, latest, sigma) for x in dt_ls]\n",
    "\n",
    "sw = get_sample_weights(T_dt, 2)"
   ]
  },
  {
   "cell_type": "code",
   "execution_count": 5,
   "metadata": {
    "ExecuteTime": {
     "end_time": "2016-05-03T07:33:24.802924",
     "start_time": "2016-05-03T07:33:24.765326"
    },
    "collapsed": false
   },
   "outputs": [],
   "source": [
    "# Split the data into train and test. \n",
    "#Since we are going to optimize sigma, we split into old and new\n",
    "test_ind = range(0,1000)\n",
    "train_ind = range(1000,len(y))\n",
    "\n",
    "X_train = X.iloc[train_ind]\n",
    "X_test = X.iloc[test_ind]\n",
    "y_train = y[list(train_ind)]\n",
    "y_test = y[list(test_ind)]\n",
    "\n",
    "T_dt_train = T_dt[1000:len(y)]"
   ]
  },
  {
   "cell_type": "code",
   "execution_count": 6,
   "metadata": {
    "ExecuteTime": {
     "end_time": "2016-05-03T07:33:24.815150",
     "start_time": "2016-05-03T07:33:24.805144"
    },
    "collapsed": false
   },
   "outputs": [
    {
     "name": "stdout",
     "output_type": "stream",
     "text": [
      "(9000, 20)\n",
      "(1000, 20)\n",
      "9000\n",
      "1000\n",
      "9000\n"
     ]
    }
   ],
   "source": [
    "print(X_train.shape)\n",
    "print(X_test.shape)\n",
    "print(len(y_train))\n",
    "print(len(y_test))\n",
    "print(len(T_dt_train))"
   ]
  },
  {
   "cell_type": "markdown",
   "metadata": {},
   "source": [
    "## Classification"
   ]
  },
  {
   "cell_type": "code",
   "execution_count": 7,
   "metadata": {
    "ExecuteTime": {
     "end_time": "2016-05-03T07:33:24.826928",
     "start_time": "2016-05-03T07:33:24.817112"
    },
    "collapsed": false
   },
   "outputs": [],
   "source": [
    "# Assign the classifier\n",
    "n_estimators = 140\n",
    "max_features = None\n",
    "weights = {0: 1, 1: 1}\n",
    "RANDOM_STATE = 52\n",
    "clf = RandomForestClassifier(n_estimators = n_estimators,\n",
    "                             max_features=max_features,\n",
    "                             class_weight=weights,\n",
    "                             oob_score=False,\n",
    "                             n_jobs = 4,\n",
    "                             random_state = RANDOM_STATE\n",
    "                            )"
   ]
  },
  {
   "cell_type": "code",
   "execution_count": 8,
   "metadata": {
    "ExecuteTime": {
     "end_time": "2016-05-03T07:35:31.274437",
     "start_time": "2016-05-03T07:33:24.829480"
    },
    "collapsed": false
   },
   "outputs": [
    {
     "data": {
      "text/plain": [
       "[(1, 0.80928980359720404),\n",
       " (2, 0.8165961173551306),\n",
       " (3, 0.82148794174410866),\n",
       " (4, 0.82549992701795361),\n",
       " (5, 0.83195072900955269),\n",
       " (6, 0.83257107640409356),\n",
       " (7, 0.833902998751196),\n",
       " (8, 0.83451523702946862),\n",
       " (9, 0.83443414586678344),\n",
       " (10, 0.83558969493504587),\n",
       " (11, 0.83230753012536685),\n",
       " (12, 0.83401652637895518),\n",
       " (13, 0.83494299291263241),\n",
       " (14, 0.83522275742389596),\n",
       " (15, 0.83426182714607755),\n",
       " (16, 0.83571944079534211),\n",
       " (17, 0.83201154738156635),\n",
       " (18, 0.83458416451775075),\n",
       " (19, 0.83634789730615156),\n",
       " (20, 0.83520451191229195),\n",
       " (21, 0.83595257788806188),\n",
       " (22, 0.8331468236591576),\n",
       " (23, 0.83572957719067775),\n",
       " (24, 0.83847856760570239),\n",
       " (25, 0.83808122090854531),\n",
       " (26, 0.83940300686031233),\n",
       " (27, 0.83901985111662536),\n",
       " (28, 0.83882320504711394),\n",
       " (29, 0.83851911318704475),\n",
       " (30, 0.83931988841856009),\n",
       " (31, 0.83671280753823452),\n",
       " (32, 0.83777915632754341),\n",
       " (33, 0.83502408407531736),\n",
       " (34, 0.83356444314698575),\n",
       " (35, 0.83443211858771626),\n",
       " (36, 0.83714664525859972),\n",
       " (37, 0.83839544916395015),\n",
       " (38, 0.83599312346940424),\n",
       " (39, 0.83734937316531244),\n",
       " (40, 0.83634384274801732),\n",
       " (41, 0.83757237386269645),\n",
       " (42, 0.83752371916508539),\n",
       " (43, 0.83737370051411808),\n",
       " (44, 0.83736356411878232),\n",
       " (45, 0.83754196467668951),\n",
       " (46, 0.83655265249193145),\n",
       " (47, 0.83994023581310095),\n",
       " (48, 0.83803256621093436),\n",
       " (49, 0.83713245430512984),\n",
       " (50, 0.83643101574790379),\n",
       " (51, 0.83750547365348127),\n",
       " (52, 0.83579039556269152),\n",
       " (53, 0.83747911902560856),\n",
       " (54, 0.83850289495450792),\n",
       " (55, 0.83603772360888118),\n",
       " (56, 0.83599109619033718),\n",
       " (57, 0.83709799056098866),\n",
       " (58, 0.83612489660876754),\n",
       " (59, 0.83651210691058886),\n",
       " (60, 0.83601136898100858)]"
      ]
     },
     "execution_count": 8,
     "metadata": {},
     "output_type": "execute_result"
    }
   ],
   "source": [
    "# Map a classifier name to a list of (<n_estimators>, <error rate>) pairs.\n",
    "aucs = []\n",
    "\n",
    "# Range of sigma to explore (in days)\n",
    "min_sigma = 1\n",
    "max_sigma = 60\n",
    "\n",
    "for sig in range(min_sigma, max_sigma+1,1):\n",
    "    sw = get_sample_weights(T_dt_train, sig)\n",
    "    clf.fit(X_train, y_train, sw)\n",
    "    y_pred = clf.predict_proba(X_test)[:,1]\n",
    "    aucs.append( (sig, roc_auc_score(y_test, y_pred)) )\n",
    "    \n",
    "aucs"
   ]
  },
  {
   "cell_type": "markdown",
   "metadata": {},
   "source": [
    "## Test the model on the test set"
   ]
  },
  {
   "cell_type": "code",
   "execution_count": 11,
   "metadata": {
    "ExecuteTime": {
     "end_time": "2016-05-03T08:21:04.414042",
     "start_time": "2016-05-03T08:21:04.169136"
    },
    "collapsed": false
   },
   "outputs": [
    {
     "data": {
      "image/png": "[encoded data removed]",
      "text/plain": [
       "<matplotlib.figure.Figure at 0x10c7f7908>"
      ]
     },
     "metadata": {},
     "output_type": "display_data"
    }
   ],
   "source": [
    "xs, ys = zip(*aucs)\n",
    "\n",
    "plt.plot(xs, ys)\n",
    "\n",
    "plt.title(\"Dependence of roc auc score on sigma\")\n",
    "plt.xlim(min_sigma, max_sigma)\n",
    "plt.ylim(0,1)\n",
    "plt.xlabel(\"sigma (days)\")\n",
    "plt.ylabel(\"roc auc score\")\n",
    "\n",
    "plt.show()"
   ]
  },
  {
   "cell_type": "markdown",
   "metadata": {},
   "source": [
    "The roc auc score settles down for sigma > 10 days."
   ]
  }
 ],
 "metadata": {
  "kernelspec": {
   "display_name": "Python 3",
   "language": "python",
   "name": "python3"
  },
  "language_info": {
   "codemirror_mode": {
    "name": "ipython",
    "version": 3
   },
   "file_extension": ".py",
   "mimetype": "text/x-python",
   "name": "python",
   "nbconvert_exporter": "python",
   "pygments_lexer": "ipython3",
   "version": "3.5.1"
  },
  "toc": {
   "toc_cell": false,
   "toc_number_sections": true,
   "toc_threshold": 6,
   "toc_window_display": false
  }
 },
 "nbformat": 4,
 "nbformat_minor": 0
}
