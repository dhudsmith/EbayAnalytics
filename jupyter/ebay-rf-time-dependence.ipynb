{
 "cells": [
  {
   "cell_type": "markdown",
   "metadata": {},
   "source": [
    "# Imports"
   ]
  },
  {
   "cell_type": "code",
   "execution_count": 147,
   "metadata": {
    "ExecuteTime": {
     "end_time": "2016-05-03T07:33:23.766585",
     "start_time": "2016-05-03T07:33:20.481538"
    },
    "collapsed": false
   },
   "outputs": [],
   "source": [
    "%matplotlib inline\n",
    "import matplotlib.pylab as pylab\n",
    "pylab.rcParams['figure.figsize'] = (10, 6)\n",
    "import matplotlib.pyplot as plt\n",
    "import pandas as pd\n",
    "import numpy as np\n",
    "import math\n",
    "from sklearn.feature_selection import VarianceThreshold\n",
    "from sklearn.cross_validation import train_test_split\n",
    "from sklearn.ensemble import RandomForestClassifier\n",
    "from sklearn.metrics import confusion_matrix, roc_auc_score, classification_report\n",
    "from dateutil.parser import parse\n",
    "from datetime import timedelta\n",
    "import pprint as pp"
   ]
  },
  {
   "cell_type": "code",
   "execution_count": 148,
   "metadata": {
    "ExecuteTime": {
     "end_time": "2016-05-03T07:33:23.814631",
     "start_time": "2016-05-03T07:33:23.769074"
    },
    "collapsed": true
   },
   "outputs": [],
   "source": [
    "# Read in the pandas.DataFrame from csv\n",
    "data = pd.read_csv('../DataAnalysis/RandomForest/ebay_data_rf_endtime.csv', index_col=False)"
   ]
  },
  {
   "cell_type": "markdown",
   "metadata": {},
   "source": [
    "# Random forest model"
   ]
  },
  {
   "cell_type": "markdown",
   "metadata": {},
   "source": [
    "Our eBay data contains primarily categorical variables. Thus, random forest is a natural option for modeling the dataset, because the random forest algorithm is based on decision trees which naturally handle categorical data."
   ]
  },
  {
   "cell_type": "markdown",
   "metadata": {},
   "source": [
    "## Preprocessing"
   ]
  },
  {
   "cell_type": "code",
   "execution_count": 149,
   "metadata": {
    "ExecuteTime": {
     "end_time": "2016-05-03T07:33:24.717163",
     "start_time": "2016-05-03T07:33:23.817441"
    },
    "collapsed": true
   },
   "outputs": [],
   "source": [
    "# Separate target variable from inputs\n",
    "y = data.sellingState\n",
    "T = data.endTime\n",
    "X = data.drop(['sellingState','endTime'], axis=1)\n",
    "T_dt = [parse(x) for x in T]"
   ]
  },
  {
   "cell_type": "markdown",
   "metadata": {},
   "source": [
    "We can easily see the 90 day limitation of the ebay API:"
   ]
  },
  {
   "cell_type": "code",
   "execution_count": 150,
   "metadata": {
    "collapsed": false
   },
   "outputs": [
    {
     "name": "stdout",
     "output_type": "stream",
     "text": [
      "Total days of data: 89.98309027777778\n"
     ]
    }
   ],
   "source": [
    "DeltaT = (T_dt[0]-T_dt[-1])\n",
    "print(\"Total days of data:\", DeltaT.total_seconds()/86400)"
   ]
  },
  {
   "cell_type": "code",
   "execution_count": 151,
   "metadata": {
    "ExecuteTime": {
     "end_time": "2016-05-03T07:33:24.763510",
     "start_time": "2016-05-03T07:33:24.719595"
    },
    "collapsed": false
   },
   "outputs": [],
   "source": [
    "# Calculate the sample weights\n",
    "def get_days_diff(dt1 , dt2): \n",
    "    return (dt1 - dt2).total_seconds()/(86400) \n",
    "    # 86400 s/day = 60 s/min * 60 min/hr *24 hr/day\n",
    "\n",
    "def get_weight(dt, dt_ref, sigma):\n",
    "\n",
    "    hrs = get_days_diff(dt,dt_ref)\n",
    "    \n",
    "    return math.exp( -hrs**2 / (2 * sigma) )\n",
    "\n",
    "def get_sample_weights(dt_ls, sigma):\n",
    "    latest = max(dt_ls)\n",
    "    return [get_weight(x, latest, sigma) for x in dt_ls]\n",
    "\n",
    "sw = get_sample_weights(T_dt, 2)"
   ]
  },
  {
   "cell_type": "code",
   "execution_count": 152,
   "metadata": {
    "ExecuteTime": {
     "end_time": "2016-05-03T07:33:24.802924",
     "start_time": "2016-05-03T07:33:24.765326"
    },
    "collapsed": false
   },
   "outputs": [],
   "source": [
    "# Split the data into train and test. \n",
    "#Since we are going to optimize sigma, we split into old and new\n",
    "frac = 0.115\n",
    "ind = math.ceil(42028 * frac)\n",
    "\n",
    "test_ind = range(0,ind)\n",
    "train_ind = range(ind,len(y))\n",
    "\n",
    "X_train = X.iloc[train_ind]\n",
    "X_test = X.iloc[test_ind]\n",
    "y_train = y[list(train_ind)]\n",
    "y_test = y[list(test_ind)]\n",
    "\n",
    "T_dt_train = T_dt[ind:len(y)]"
   ]
  },
  {
   "cell_type": "code",
   "execution_count": 153,
   "metadata": {
    "collapsed": false
   },
   "outputs": [
    {
     "name": "stdout",
     "output_type": "stream",
     "text": [
      "7.031990740740741 165.90219907407408\n"
     ]
    }
   ],
   "source": [
    "min_sigma = (T_dt[0]-T_dt[ind]).total_seconds()/86400\n",
    "max_sigma = 2*(T_dt_train[0]-T_dt_train[-1]).total_seconds()/86400\n",
    "print(min_sigma, max_sigma)"
   ]
  },
  {
   "cell_type": "code",
   "execution_count": 154,
   "metadata": {
    "ExecuteTime": {
     "end_time": "2016-05-03T07:33:24.815150",
     "start_time": "2016-05-03T07:33:24.805144"
    },
    "collapsed": false
   },
   "outputs": [
    {
     "name": "stdout",
     "output_type": "stream",
     "text": [
      "(37194, 20)\n",
      "(4834, 20)\n",
      "37194\n",
      "4834\n",
      "37194\n"
     ]
    }
   ],
   "source": [
    "print(X_train.shape)\n",
    "print(X_test.shape)\n",
    "print(len(y_train))\n",
    "print(len(y_test))\n",
    "print(len(T_dt_train))"
   ]
  },
  {
   "cell_type": "markdown",
   "metadata": {},
   "source": [
    "## Classification"
   ]
  },
  {
   "cell_type": "code",
   "execution_count": 155,
   "metadata": {
    "ExecuteTime": {
     "end_time": "2016-05-03T07:33:24.826928",
     "start_time": "2016-05-03T07:33:24.817112"
    },
    "collapsed": false
   },
   "outputs": [],
   "source": [
    "# Assign the classifier\n",
    "n_estimators = 200\n",
    "max_features = None\n",
    "weights = {0: 1, 1: 1}\n",
    "RANDOM_STATE = 3\n",
    "clf = RandomForestClassifier(n_estimators = n_estimators,\n",
    "                             max_features=max_features,\n",
    "                             class_weight=weights,\n",
    "                             oob_score=False,\n",
    "                             n_jobs = 7,\n",
    "                             random_state = RANDOM_STATE\n",
    "                            )"
   ]
  },
  {
   "cell_type": "code",
   "execution_count": 156,
   "metadata": {
    "ExecuteTime": {
     "end_time": "2016-05-03T07:35:31.274437",
     "start_time": "2016-05-03T07:33:24.829480"
    },
    "collapsed": false
   },
   "outputs": [
    {
     "data": {
      "text/plain": [
       "[(7.0319907407407412, 0.8162697881408526),\n",
       " (10.274239890400604, 0.81855463765266046),\n",
       " (13.516489040060469, 0.82163451682140154),\n",
       " (16.758738189720333, 0.82330973609303904),\n",
       " (20.000987339380195, 0.82135637411388318),\n",
       " (23.243236489040061, 0.82160026107585005),\n",
       " (26.485485638699924, 0.82058156667824211),\n",
       " (29.72773478835979, 0.82155327927724386),\n",
       " (32.969983938019652, 0.82182505895823477),\n",
       " (36.212233087679515, 0.82279712021622431),\n",
       " (39.454482237339377, 0.82349775045221063),\n",
       " (42.69673138699924, 0.82487294866484517),\n",
       " (45.938980536659102, 0.82409413165084455),\n",
       " (49.181229686318964, 0.8244345099876853),\n",
       " (52.423478835978834, 0.82294782806370137),\n",
       " (55.665727985638696, 0.82345451673772341),\n",
       " (58.907977135298559, 0.82301407327138354),\n",
       " (62.150226284958421, 0.82314237977889448),\n",
       " (65.392475434618291, 0.82402117475764702),\n",
       " (68.63472458427816, 0.82390088740685585),\n",
       " (71.876973733938016, 0.82313671407034261),\n",
       " (75.119222883597871, 0.823853121125527),\n",
       " (78.361472033257741, 0.82190586067865778),\n",
       " (81.60372118291761, 0.82383342189271624),\n",
       " (84.845970332577465, 0.82417519486550839),\n",
       " (88.088219482237335, 0.824647366299738),\n",
       " (91.33046863189719, 0.8250247896540327),\n",
       " (94.57271778155706, 0.82425878585783352),\n",
       " (97.814966931216929, 0.82330093245359681),\n",
       " (101.05721608087678, 0.82338940467175148),\n",
       " (104.29946523053665, 0.82320051866511046),\n",
       " (107.54171438019651, 0.82360147650108151),\n",
       " (110.78396352985638, 0.82365107324209619),\n",
       " (114.02621267951625, 0.82282370546404426),\n",
       " (117.2684618291761, 0.82268406753942991),\n",
       " (120.51071097883597, 0.82266157903471659),\n",
       " (123.75296012849583, 0.82333989509548366),\n",
       " (126.9952092781557, 0.82395126863059287),\n",
       " (130.23745842781557, 0.82413405310494769),\n",
       " (133.47970757747544, 0.82426453873113226),\n",
       " (136.72195672713531, 0.82436922359221954),\n",
       " (139.96420587679518, 0.82439650615801496),\n",
       " (143.20645502645502, 0.82415706459814264),\n",
       " (146.44870417611489, 0.82375087687735427),\n",
       " (149.69095332577476, 0.82301381177714283),\n",
       " (152.93320247543463, 0.82386933376845983),\n",
       " (156.1754516250945, 0.8231175378260136),\n",
       " (159.41770077475434, 0.82277898994885845),\n",
       " (162.65994992441421, 0.82258992961272348),\n",
       " (165.90219907407408, 0.82335471310246533)]"
      ]
     },
     "execution_count": 156,
     "metadata": {},
     "output_type": "execute_result"
    }
   ],
   "source": [
    "# Calculate the Auc_error for a range of time windows\n",
    "aucs = []\n",
    "\n",
    "# Range of sigma to explore (in days)\n",
    "n_pts = 50\n",
    "pts = np.linspace(min_sigma, max_sigma, n_pts)\n",
    "\n",
    "for sig in pts:\n",
    "    sw = get_sample_weights(T_dt_train, sig)\n",
    "    clf.fit(X_train, y_train, sw)\n",
    "    y_pred = clf.predict_proba(X_test)[:,1]\n",
    "    aucs.append( (sig, roc_auc_score(y_test, y_pred)) )\n",
    "    \n",
    "aucs"
   ]
  },
  {
   "cell_type": "markdown",
   "metadata": {},
   "source": [
    "## Plot the results"
   ]
  },
  {
   "cell_type": "code",
   "execution_count": 157,
   "metadata": {
    "ExecuteTime": {
     "end_time": "2016-05-03T08:21:04.414042",
     "start_time": "2016-05-03T08:21:04.169136"
    },
    "collapsed": false
   },
   "outputs": [
    {
     "data": {
      "image/png": "[encoded data removed]",
      "text/plain": [
       "<matplotlib.figure.Figure at 0x7f243c109e48>"
      ]
     },
     "metadata": {},
     "output_type": "display_data"
    }
   ],
   "source": [
    "xs, ys = zip(*aucs)\n",
    "\n",
    "plt.plot(xs, ys)\n",
    "\n",
    "plt.title(\"Dependence of roc auc score on sigma\")\n",
    "plt.xlim(min_sigma, max_sigma)\n",
    "plt.xlabel(\"sigma (days)\")\n",
    "plt.ylabel(\"roc auc score\")\n",
    "\n",
    "plt.show()"
   ]
  },
  {
   "cell_type": "code",
   "execution_count": 158,
   "metadata": {
    "collapsed": false
   },
   "outputs": [
    {
     "data": {
      "text/plain": [
       "(91.33046863189719, 0.8250247896540327)"
      ]
     },
     "execution_count": 158,
     "metadata": {},
     "output_type": "execute_result"
    }
   ],
   "source": [
    "# Find the maximum value\n",
    "max(aucs, key = lambda x: x[1])"
   ]
  },
  {
   "cell_type": "markdown",
   "metadata": {},
   "source": [
    "It doesn't appear that over the timescale of the available data that the there is any benefit to adjusting the sample weights for older data. While older data doesn't appear to be neccessary to constrain the fit, it doesn't harm the fitting either. Perhaps as the data set grows, the time dependence will become an issue. At present, we will sample all data points equally."
   ]
  }
 ],
 "metadata": {
  "kernelspec": {
   "display_name": "Python 3",
   "language": "python",
   "name": "python3"
  },
  "language_info": {
   "codemirror_mode": {
    "name": "ipython",
    "version": 3
   },
   "file_extension": ".py",
   "mimetype": "text/x-python",
   "name": "python",
   "nbconvert_exporter": "python",
   "pygments_lexer": "ipython3",
   "version": "3.5.1"
  },
  "toc": {
   "toc_cell": false,
   "toc_number_sections": true,
   "toc_threshold": 6,
   "toc_window_display": false
  }
 },
 "nbformat": 4,
 "nbformat_minor": 0
}
